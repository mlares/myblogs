{
 "cells": [
  {
   "cell_type": "markdown",
   "id": "6b405a9f-4401-468a-9a6e-920e329ed723",
   "metadata": {},
   "source": [
    "Based on the article:\n",
    "    \n",
    "**David A. Freedman (1983)<br> A Note on Screening Regression\n",
    "Equations<br>The American Statistician, 37:2, 152-155**\n",
    "\n",
    "To link to this article: http://dx.doi.org/10.1080/00031305.1983.10482729"
   ]
  },
  {
   "cell_type": "markdown",
   "id": "878cb2dc-4adf-4a67-bb6a-916895425a44",
   "metadata": {},
   "source": [
    "Abstract from the paper:\n",
    "    \n",
    "*Consider developing a regression model in a context where substantive theory is weak. To focus on an extreme case, suppose that in fact there is no relationship between the dependent variable and the explanatory variables. Even so, if there are many explanatory variables, the R 2 will be high. If explanatory variables with small t statistics are dropped and the equation refitted, the R 2 will stay high and the overall F will become highly significant. This is demonstrated by simulation and by asymptotic calculation.*"
   ]
  },
  {
   "cell_type": "code",
   "execution_count": 1,
   "id": "f3474b65-954c-441d-999c-27185f9d02bc",
   "metadata": {},
   "outputs": [],
   "source": [
    "import numpy as np\n",
    "from scipy import stats as st\n",
    "from matplotlib import pyplot as plt\n",
    "from sklearn import metrics\n",
    "from sklearn.linear_model import LinearRegression"
   ]
  },
  {
   "cell_type": "code",
   "execution_count": 2,
   "id": "55a4d8a3-ef14-42ed-a1d4-77c1c1e605c7",
   "metadata": {},
   "outputs": [],
   "source": [
    "clr = 'color: green'"
   ]
  },
  {
   "cell_type": "markdown",
   "id": "b5ca4b09-e842-4b63-9aff-7c3f39f8a5f2",
   "metadata": {},
   "source": [
    "<font style='color: #76448A; font-size:120%;'>\n",
    "\n",
    "# Paradoxes in data science\n",
    "# The Freedman Paradox and the feature elimination menace\n",
    "\n",
    "</font>"
   ]
  },
  {
   "cell_type": "markdown",
   "id": "ebd4b3fa-13c3-4064-89e7-a56a9ac7da71",
   "metadata": {},
   "source": [
    "<font style='color: #76448A; font-size:120%;'>\n",
    "\n",
    "Headline:\n",
    "    \n",
    "**Feature elimination is a common practice in data science, however, it entails hidden dangers that you must be aware of.**\n",
    "</font>"
   ]
  },
  {
   "cell_type": "markdown",
   "id": "2ffeeea9-982c-4e45-bbaf-ebd3b28659a9",
   "metadata": {},
   "source": [
    "<font style='color: #76448A; font-size:120%;'>\n",
    "Behind the marvels of artificial intelligence that permeate the modern world (and the future, surely) there is a collection of algorithms and practices that constitutes the building blocks of many applications. In many cases the misuse of these procedures can lead, though, to the wrong conclusions. One of those practices is the elimination of features that are determined to be less or no useful for the task at hand.\n",
    "    \n",
    "</font>"
   ]
  },
  {
   "cell_type": "markdown",
   "id": "09fb9088-a045-4a8f-9062-ffd689aa67ce",
   "metadata": {},
   "source": [
    "<font style='color: #76448A; font-size:120%;'>\n",
    "Most modern implementations of supervised machine learning involve a large number of variables. One of these variables is especial, the one that is expected to be missing in a new dataset and that could be obtained from a model using the rest of variables. This is called the target variable.  The other variables are usually called explanatory variables, as they \"explain\" the predicted value of the target variable. But not all variables have the same capability for explaining the target variable. So it is a common practice to perform some procedure that reduces the dimensionality of the dataset, thus gaining control over the perils of the curse of dimensionality. Feature elimination is one of the approaches to reduce dimensionality. It consists on eliminating features on the basis of their correlation with the target variable. That is, after computing the correlation of each variable with the target variable, keep only those with the highest correlation, which are the ones that better explain the target variable. The advantage of reducing the dimensionality comes from the fact that many machine learning algorithms underperform in high dimensions.\n",
    "    \n",
    "</font>"
   ]
  },
  {
   "cell_type": "markdown",
   "id": "3e12f279-a353-4cbd-a683-4d189e8ac708",
   "metadata": {},
   "source": [
    "<font style='color: #76448A; font-size:120%;'>\n",
    "The trap here is that if one looks for those correlations vehemently enough, one will eventually find them. In a paper by David Freedman from 1983, this phenomenon was formalized with both statistical and simulation approaches. Let's see how it works following the ideas of Freedman.\n",
    "    \n",
    "</font>"
   ]
  },
  {
   "cell_type": "markdown",
   "id": "f52e5aac-8e50-474b-a9b5-6f6c6984ad1f",
   "metadata": {},
   "source": [
    "<font style='color: #76448A; font-size:120%;'>\n",
    "The correlation between variables can be computed through several metrics. For two variables, the Pearson's correlation coefficient (r^2) is commonly used, which is the covariance normalized by the standard deviations of the two variables.  For more than two variables, an equivalent definition involves a matrix. Alternatively, the coefficient of determination R^2 is used as a scalar metric in multivariate problems. It is defined in terms of the squared sum of the residuals between the actual and the predicted values of the target variable. It is worth noticing that this definition is model dependent, so it is a measure of the correlation of all features with the target variable through the model.\n",
    "    \n",
    "</font>"
   ]
  },
  {
   "cell_type": "markdown",
   "id": "6f7d855c-aea1-4bc7-8bc0-6a39d55981b7",
   "metadata": {},
   "source": [
    "<font style='color: #76448A; font-size:120%;'>\n",
    "When the correlation is high, the R^2 coefficient will be close to one. A regressor model tha gives a result independent of the explaining variables will be close to zero, and it can even be negative for a bad regressor.\n",
    "</font>"
   ]
  },
  {
   "cell_type": "markdown",
   "id": "55086b90-d337-4ec3-97a6-6d7871e4afbd",
   "metadata": {},
   "source": [
    "Set parameters"
   ]
  },
  {
   "cell_type": "code",
   "execution_count": 3,
   "id": "3a508ba9-d897-46e7-b909-3d2c69b34529",
   "metadata": {},
   "outputs": [],
   "source": [
    "Nsamples = 100\n",
    "Nfeatures = 50\n",
    "Nselected = 10"
   ]
  },
  {
   "cell_type": "markdown",
   "id": "41e548b8-c5ee-4bf3-8c0f-a15657f14a29",
   "metadata": {},
   "source": [
    "### <font color='red'>TASK: Define a metric for multivariate correlation</font>"
   ]
  },
  {
   "cell_type": "code",
   "execution_count": 4,
   "id": "3a27ad2c-0846-4e57-91a1-7c7978ca49c4",
   "metadata": {},
   "outputs": [],
   "source": [
    "def get_corr(X, y):\n",
    "    # multivariate correlation\n",
    "    model = LinearRegression()\n",
    "    model.fit(X, y)\n",
    "    r = model.score(X, y)\n",
    "    return r"
   ]
  },
  {
   "cell_type": "code",
   "execution_count": 248,
   "id": "8b40b909-5504-4570-94c3-806954553d5c",
   "metadata": {},
   "outputs": [],
   "source": [
    "def get_corrs(X, y):\n",
    "    # list of all correlation coefficients\n",
    "    Nfeats = X.shape[1]\n",
    "    r = np.zeros([Nfeats, 3])\n",
    "    for i in range(Nfeats):\n",
    "        coef_det(y, y_pred)\n",
    "        r[i, 0] = metrics.r2_score(X[:, i], y)\n",
    "        r[i, 1] = np.correlate(X[:, i], y)/np.linalg.norm(y)\n",
    "        r[i, 2] = np.corrcoef(X[:, i], y)\n",
    "    return r"
   ]
  },
  {
   "cell_type": "code",
   "execution_count": 105,
   "id": "9f436131-8c87-44e6-8d00-5a63ecbe8a29",
   "metadata": {},
   "outputs": [],
   "source": [
    "def gen_var(Nsample, Nfeatures):\n",
    "    # draw variables from a standard normal distribution\n",
    "    X = st.norm().rvs(size=(Nsamples, Nfeatures))\n",
    "    y = st.norm().rvs(size=Nsamples)\n",
    "    return X, y"
   ]
  },
  {
   "cell_type": "code",
   "execution_count": 106,
   "id": "72d2d6a6-eb57-4524-bb61-80a4e7bc40c4",
   "metadata": {},
   "outputs": [],
   "source": [
    "def gen_var_corr(Nsample, Nfeatures, factors=(4, 9), noise=10):\n",
    "    X = st.norm().rvs(size=(Nsamples, Nfeatures))\n",
    "    fact = np.random.randint(0, 20, Nfeatures)\n",
    "    yc = X@fact\n",
    "    yc = yc + np.random.normal(loc=0, scale=10, size=Nsamples)    \n",
    "    return X, yc"
   ]
  },
  {
   "cell_type": "code",
   "execution_count": 107,
   "id": "07bb2eb2-7b87-401d-ab4c-48a8649396ce",
   "metadata": {},
   "outputs": [],
   "source": [
    "def coef_det(y_true, y_pred):\n",
    "    u = ((y_true - y_pred)** 2).sum()\n",
    "    v = ((y_true - y_true.mean()) ** 2).sum()\n",
    "    c = 1 - u/v\n",
    "    return c"
   ]
  },
  {
   "cell_type": "markdown",
   "id": "3edbe6d2-aac8-45ea-8b96-dd3a90e90e40",
   "metadata": {},
   "source": [
    "Generate a fake correlation"
   ]
  },
  {
   "cell_type": "code",
   "execution_count": 9,
   "id": "cbdeb8b6-e856-493e-8bce-ee4b7cc8b440",
   "metadata": {},
   "outputs": [],
   "source": [
    "X = np.random.random((Nsamples, Nfeatures))"
   ]
  },
  {
   "cell_type": "code",
   "execution_count": 10,
   "id": "da01c84d-d276-4fd5-90bf-ebcb758feb35",
   "metadata": {},
   "outputs": [],
   "source": [
    "fact = np.random.randint(0, 20, Nfeatures)\n",
    "yc = X@fact\n",
    "yc = yc + np.random.normal(loc=0, scale=10, size=Nsamples)\n",
    "#yc = yc.reshape([-1, 1])"
   ]
  },
  {
   "cell_type": "code",
   "execution_count": 11,
   "id": "0ed6e04e-482b-4dc7-a347-b6332ff105ac",
   "metadata": {},
   "outputs": [
    {
     "data": {
      "text/plain": [
       "0.9027481192083738"
      ]
     },
     "execution_count": 11,
     "metadata": {},
     "output_type": "execute_result"
    }
   ],
   "source": [
    "get_corr(X, yc)"
   ]
  },
  {
   "cell_type": "code",
   "execution_count": 12,
   "id": "f780a949-6a23-43cd-af0d-830b3f60fbc2",
   "metadata": {},
   "outputs": [
    {
     "data": {
      "text/plain": [
       "array([-447999.95787298, -452395.84056692, -494286.40313341,\n",
       "       -420329.94137971, -489168.6757429 , -687387.31523895,\n",
       "       -505826.96177064, -575341.36604772, -485410.55158405,\n",
       "       -500674.10368312, -508211.38996898, -555582.44769306,\n",
       "       -501883.79277186, -481972.12283378, -508614.79958567,\n",
       "       -505117.2679717 , -446885.56712725, -484223.7761312 ,\n",
       "       -567871.51639179, -522554.02853481, -478785.60127029,\n",
       "       -494163.26796851, -513593.72743623, -533404.18765379,\n",
       "       -459420.90177901, -444286.18672397, -560529.80696843,\n",
       "       -446348.44276858, -416053.31499122, -509692.2494424 ,\n",
       "       -496620.72874457, -504492.74537795, -498704.12981971,\n",
       "       -510525.42894333, -439206.39797883, -474333.19441482,\n",
       "       -451094.78942179, -468261.49211166, -549449.02287012,\n",
       "       -563396.31748497, -522661.98622397, -446218.03563372,\n",
       "       -527537.78339961, -464452.33370312, -568596.72430976,\n",
       "       -484683.97570668, -595209.06700039, -441150.42946299,\n",
       "       -519394.36666838, -514697.35404999])"
      ]
     },
     "execution_count": 12,
     "metadata": {},
     "output_type": "execute_result"
    }
   ],
   "source": [
    "get_corrs(X, yc)[:,0]"
   ]
  },
  {
   "cell_type": "code",
   "execution_count": 13,
   "id": "3c2c1c55-4a1b-49a5-9f61-834a3b192da2",
   "metadata": {},
   "outputs": [
    {
     "data": {
      "text/plain": [
       "array([4.92153139, 4.75196489, 4.50925742, 5.20521277, 5.20084402,\n",
       "       4.95013972, 5.20791553, 5.02863052, 4.88232615, 5.23025061,\n",
       "       4.55418832, 4.8165707 , 5.39558921, 4.945514  , 4.86138246,\n",
       "       4.93298506, 5.31350368, 5.10028563, 4.86496185, 4.86550805,\n",
       "       4.7382711 , 4.91065206, 4.87979739, 4.99330131, 5.19257783,\n",
       "       4.71029925, 4.26074849, 4.59055994, 5.49801241, 5.25893122,\n",
       "       5.12768577, 5.19398852, 5.0473245 , 4.73647459, 4.97662558,\n",
       "       5.21390049, 4.79615007, 4.62770772, 5.29323534, 4.49815947,\n",
       "       5.00255657, 4.7702513 , 5.00263964, 5.12894018, 4.6081576 ,\n",
       "       4.69541226, 4.86742244, 5.40974907, 4.83525642, 5.00992332])"
      ]
     },
     "execution_count": 13,
     "metadata": {},
     "output_type": "execute_result"
    }
   ],
   "source": [
    "get_corrs(X, yc)[:,1]"
   ]
  },
  {
   "cell_type": "markdown",
   "id": "9603c9b6-874e-49d2-be64-bbe9d38ef79b",
   "metadata": {},
   "source": [
    "### <font color='red'>TASK: test correlation metric</font>"
   ]
  },
  {
   "cell_type": "markdown",
   "id": "d303a81c-5ba0-43de-9034-d29b39c3a560",
   "metadata": {},
   "source": [
    "**1.- Correlation values for a highly correlated target variable**"
   ]
  },
  {
   "cell_type": "code",
   "execution_count": 14,
   "id": "eb243f51-054a-4e91-bf91-a616347d4158",
   "metadata": {},
   "outputs": [],
   "source": [
    "X = np.random.random((Nsamples, Nfeatures))\n",
    "fact = np.random.randint(-50, 50, Nfeatures)\n",
    "yc = X@fact\n",
    "yc = yc + np.random.normal(loc=0, scale=1, size=Nsamples)"
   ]
  },
  {
   "cell_type": "code",
   "execution_count": 15,
   "id": "7a463490-9513-4641-af45-e666975ae0e7",
   "metadata": {},
   "outputs": [
    {
     "name": "stdout",
     "output_type": "stream",
     "text": [
      "0.9998080524774554\n"
     ]
    }
   ],
   "source": [
    "model = LinearRegression()\n",
    "model.fit(X, yc)\n",
    "print(coef_det(model.predict(X), yc))"
   ]
  },
  {
   "cell_type": "code",
   "execution_count": 16,
   "id": "ea465bdb-daff-4e4a-bc70-adb9079c83af",
   "metadata": {},
   "outputs": [],
   "source": [
    "c = []\n",
    "ymin = 999\n",
    "ymax = -999\n",
    "for _ in range(1000):\n",
    "    X = np.random.random((Nsamples, Nfeatures))\n",
    "    fact = np.random.randint(-10, 10, Nfeatures)\n",
    "    yc = X@fact\n",
    "    ymin = min(ymin, min(yc))\n",
    "    ymax = max(ymax, max(yc))\n",
    "    yc = yc + np.random.normal(loc=0, scale=2, size=Nsamples)\n",
    "\n",
    "    model.fit(X, yc)\n",
    "    cc = coef_det(model.predict(X), yc)\n",
    "    c.append(cc)"
   ]
  },
  {
   "cell_type": "code",
   "execution_count": 17,
   "id": "50e0e122-a6af-4a4a-b6dd-b5d1d6800c08",
   "metadata": {},
   "outputs": [
    {
     "name": "stdout",
     "output_type": "stream",
     "text": [
      "-119.80756482445126 82.04088040920215\n"
     ]
    }
   ],
   "source": [
    "print(ymin, ymax)"
   ]
  },
  {
   "cell_type": "code",
   "execution_count": 18,
   "id": "1f35accb-bd84-4618-bd80-1d18272478a9",
   "metadata": {},
   "outputs": [
    {
     "data": {
      "image/png": "[encoded data removed]",
      "text/plain": [
       "<Figure size 432x288 with 1 Axes>"
      ]
     },
     "metadata": {
      "needs_background": "light"
     },
     "output_type": "display_data"
    }
   ],
   "source": [
    "n, b, p = plt.hist(c, bins=30)"
   ]
  },
  {
   "cell_type": "markdown",
   "id": "d393b227-8aba-41bb-b999-27451a07867e",
   "metadata": {},
   "source": [
    "**2.- Correlation values for independent variable**"
   ]
  },
  {
   "cell_type": "code",
   "execution_count": 19,
   "id": "53bc6522-fc87-4dbe-aa4c-9eeb4ba15a3e",
   "metadata": {},
   "outputs": [],
   "source": [
    "X = np.random.random((Nsamples, Nfeatures))\n",
    "yc = np.random.random((Nsamples, 1))"
   ]
  },
  {
   "cell_type": "code",
   "execution_count": 20,
   "id": "9c0bc007-28d9-4e6f-88d4-e1991204fcbb",
   "metadata": {},
   "outputs": [
    {
     "data": {
      "text/plain": [
       "0.5069706770006859"
      ]
     },
     "execution_count": 20,
     "metadata": {},
     "output_type": "execute_result"
    }
   ],
   "source": [
    "get_corr(X, yc)"
   ]
  },
  {
   "cell_type": "code",
   "execution_count": 21,
   "id": "153fee91-19b0-4df2-b653-790367de4c79",
   "metadata": {},
   "outputs": [],
   "source": [
    "c = []\n",
    "for _ in range(1000):\n",
    "    X = np.random.random((Nsamples, Nfeatures))\n",
    "    yc = np.random.random((Nsamples, 1))\n",
    "    c.append(get_corr(X, yc))"
   ]
  },
  {
   "cell_type": "code",
   "execution_count": 22,
   "id": "72e5433c-5ee1-49ad-9e14-1ff6e8e350a8",
   "metadata": {},
   "outputs": [
    {
     "data": {
      "image/png": "[encoded data removed]",
      "text/plain": [
       "<Figure size 432x288 with 1 Axes>"
      ]
     },
     "metadata": {
      "needs_background": "light"
     },
     "output_type": "display_data"
    }
   ],
   "source": [
    "n, b, p = plt.hist(c, bins=30)"
   ]
  },
  {
   "cell_type": "markdown",
   "id": "115be3e9-aea9-4ee4-9a4e-f16fd9e677f8",
   "metadata": {},
   "source": [
    "**3.- Ignore the features**"
   ]
  },
  {
   "cell_type": "code",
   "execution_count": 23,
   "id": "559f7174-a4a7-4a17-a8e4-cfaee6704ea3",
   "metadata": {},
   "outputs": [],
   "source": [
    "X = np.random.random((Nsamples, Nfeatures))\n",
    "fact = np.random.randint(-50, 50, Nfeatures)\n",
    "yc = X@fact\n",
    "yc = yc + np.random.normal(loc=0, scale=1, size=Nsamples)"
   ]
  },
  {
   "cell_type": "code",
   "execution_count": 24,
   "id": "007bceea-a50c-477a-a899-4198a14a3472",
   "metadata": {},
   "outputs": [
    {
     "name": "stdout",
     "output_type": "stream",
     "text": [
      "-8.13659763862557\n"
     ]
    }
   ],
   "source": [
    "model.fit(X, yc)\n",
    "cc = coef_det(yc, np.repeat(1, len(yc)))\n",
    "print(cc)"
   ]
  },
  {
   "cell_type": "code",
   "execution_count": 25,
   "id": "c6906fe8-e929-4af5-b5fc-d0415a87e6c7",
   "metadata": {},
   "outputs": [],
   "source": [
    "c = []\n",
    "for _ in range(1000):    \n",
    "    X = np.random.random((Nsamples, Nfeatures))\n",
    "    fact = np.random.randint(-50, 50, Nfeatures)\n",
    "    yc = X@fact\n",
    "    yc = yc + np.random.normal(loc=0, scale=1, size=Nsamples)\n",
    "    cc = coef_det(yc, np.repeat(0, len(yc)))\n",
    "    c.append(cc)"
   ]
  },
  {
   "cell_type": "code",
   "execution_count": 26,
   "id": "b8707bec-1971-49ac-a448-965f00660550",
   "metadata": {},
   "outputs": [
    {
     "data": {
      "image/png": "[encoded data removed]",
      "text/plain": [
       "<Figure size 432x288 with 1 Axes>"
      ]
     },
     "metadata": {
      "needs_background": "light"
     },
     "output_type": "display_data"
    }
   ],
   "source": [
    "n, b, p = plt.hist(c, bins=30)"
   ]
  },
  {
   "cell_type": "markdown",
   "id": "ec26b8b9-5206-473a-943a-cdd8b0ad752f",
   "metadata": {},
   "source": [
    "### <font color='red'>TASK: given a set of explanatory variables, find their predictive power by eliminating the less correlated variables. Test this exercise on random variables.</font>"
   ]
  },
  {
   "cell_type": "code",
   "execution_count": 56,
   "id": "35de7c15-292e-4a34-abda-9a10cf713034",
   "metadata": {},
   "outputs": [],
   "source": [
    "# generate random variables\n",
    "\n",
    "X, y = gen_var(Nsamples, Nfeatures)"
   ]
  },
  {
   "cell_type": "markdown",
   "id": "9bf4a209-5759-4e4d-9e75-ade9870aac5d",
   "metadata": {},
   "source": [
    "**Test 2 options for correlations**"
   ]
  },
  {
   "cell_type": "code",
   "execution_count": 57,
   "id": "5760e314-5fc8-46b3-a089-4a1e850626dc",
   "metadata": {},
   "outputs": [],
   "source": [
    "c = get_corrs(X, y)"
   ]
  },
  {
   "cell_type": "code",
   "execution_count": 58,
   "id": "27fffacd-10c1-49aa-bea4-2f854278a69b",
   "metadata": {},
   "outputs": [
    {
     "data": {
      "text/plain": [
       "array([[-6.20264313e+03, -1.15116463e+00],\n",
       "       [-6.58339926e+03, -5.39827421e-01],\n",
       "       [-5.75045886e+03, -1.46656122e+00],\n",
       "       [-4.58469267e+03, -2.17195363e+00],\n",
       "       [-6.10045897e+03,  1.49759500e+00],\n",
       "       [-6.15926865e+03, -1.67014637e+00],\n",
       "       [-5.27882381e+03,  1.40612207e+00],\n",
       "       [-5.07604212e+03,  7.01575277e-01],\n",
       "       [-5.34493974e+03, -4.59171395e-01],\n",
       "       [-5.51832304e+03, -2.49741178e-01],\n",
       "       [-4.64981657e+03, -2.99174597e-01],\n",
       "       [-5.54531261e+03,  2.86033355e+00],\n",
       "       [-5.82539565e+03,  1.23886925e+00],\n",
       "       [-5.91745206e+03, -6.40940062e-01],\n",
       "       [-5.06281880e+03,  1.31264067e-01],\n",
       "       [-6.84573779e+03, -5.06780428e-02],\n",
       "       [-4.38131240e+03,  1.29626047e+00],\n",
       "       [-6.10777510e+03, -1.63119726e+00],\n",
       "       [-4.51400934e+03,  9.93659765e-01],\n",
       "       [-7.61166083e+03, -1.95301618e-01],\n",
       "       [-6.05054278e+03,  9.09785415e-01],\n",
       "       [-5.03683357e+03, -2.93560314e-01],\n",
       "       [-5.94652822e+03, -8.28208798e-01],\n",
       "       [-6.49074887e+03, -2.08761425e+00],\n",
       "       [-5.78476791e+03,  5.61061301e-01],\n",
       "       [-5.63605492e+03, -4.87360457e-01],\n",
       "       [-4.66127260e+03, -4.51019387e-01],\n",
       "       [-4.68542900e+03, -1.20350057e+00],\n",
       "       [-5.93793553e+03,  2.47820878e-01],\n",
       "       [-4.42690013e+03,  1.11258575e+00],\n",
       "       [-6.00192994e+03, -2.41117723e-01],\n",
       "       [-6.10781259e+03, -5.11768052e-02],\n",
       "       [-6.78127210e+03, -1.30024979e-01],\n",
       "       [-5.64412374e+03,  1.64630054e-01],\n",
       "       [-4.28558379e+03, -1.12388853e+00],\n",
       "       [-5.09527026e+03,  1.14176080e+00],\n",
       "       [-7.38050709e+03, -1.10926309e+00],\n",
       "       [-6.98292252e+03,  3.90438205e-03],\n",
       "       [-5.33115784e+03,  8.11569051e-01],\n",
       "       [-6.97577525e+03,  7.90704773e-01],\n",
       "       [-5.74698943e+03,  5.55429283e-02],\n",
       "       [-4.89617109e+03, -8.83295708e-01],\n",
       "       [-6.31580714e+03, -3.23950682e-01],\n",
       "       [-5.13763563e+03, -5.87913198e-01],\n",
       "       [-7.48684753e+03,  5.07664589e-01],\n",
       "       [-5.45128479e+03, -3.45581430e-01],\n",
       "       [-5.49527152e+03, -1.53251536e+00],\n",
       "       [-5.87341769e+03, -1.80508422e-03],\n",
       "       [-5.21236501e+03, -1.94691174e+00],\n",
       "       [-6.24512181e+03, -8.24045636e-01]])"
      ]
     },
     "execution_count": 58,
     "metadata": {},
     "output_type": "execute_result"
    }
   ],
   "source": [
    "c"
   ]
  },
  {
   "cell_type": "code",
   "execution_count": 64,
   "id": "a5cb1d9c-e7ac-4ecd-bafa-5eb916ec22db",
   "metadata": {},
   "outputs": [
    {
     "data": {
      "text/plain": [
       "[<matplotlib.lines.Line2D at 0x7f424c235400>]"
      ]
     },
     "execution_count": 64,
     "metadata": {},
     "output_type": "execute_result"
    },
    {
     "data": {
      "image/png": "[encoded data removed]",
      "text/plain": [
       "<Figure size 432x288 with 1 Axes>"
      ]
     },
     "metadata": {
      "needs_background": "light"
     },
     "output_type": "display_data"
    }
   ],
   "source": [
    "plt.plot(c[:, 0])"
   ]
  },
  {
   "cell_type": "code",
   "execution_count": 65,
   "id": "4218cfa8-a3df-4581-92aa-2d2cb12fb5ca",
   "metadata": {},
   "outputs": [
    {
     "data": {
      "text/plain": [
       "[<matplotlib.lines.Line2D at 0x7f424c215970>]"
      ]
     },
     "execution_count": 65,
     "metadata": {},
     "output_type": "execute_result"
    },
    {
     "data": {
      "image/png": "[encoded data removed]",
      "text/plain": [
       "<Figure size 432x288 with 1 Axes>"
      ]
     },
     "metadata": {
      "needs_background": "light"
     },
     "output_type": "display_data"
    }
   ],
   "source": [
    "plt.plot(c[:, 1])"
   ]
  },
  {
   "cell_type": "code",
   "execution_count": 66,
   "id": "e4fc4368-ca3f-4b04-ad4b-b2c2d8ead452",
   "metadata": {},
   "outputs": [
    {
     "data": {
      "image/png": "[encoded data removed]",
      "text/plain": [
       "<Figure size 432x288 with 1 Axes>"
      ]
     },
     "metadata": {
      "needs_background": "light"
     },
     "output_type": "display_data"
    }
   ],
   "source": [
    "n, b, p = plt.hist(c[:,1])"
   ]
  },
  {
   "cell_type": "code",
   "execution_count": 67,
   "id": "7d839dc7-c5e6-4037-93cc-3a3cf76cd8e0",
   "metadata": {},
   "outputs": [
    {
     "data": {
      "image/png": "[encoded data removed]",
      "text/plain": [
       "<Figure size 432x288 with 1 Axes>"
      ]
     },
     "metadata": {
      "needs_background": "light"
     },
     "output_type": "display_data"
    }
   ],
   "source": [
    "for i in range(5):\n",
    "    plt.scatter(X[:, i], y)"
   ]
  },
  {
   "cell_type": "code",
   "execution_count": 68,
   "id": "38f2f00e-2a3e-4c75-b35c-bec1b50dbf9b",
   "metadata": {},
   "outputs": [],
   "source": [
    "r2s = c[:,0]\n",
    "r2s = np.array(r2s)"
   ]
  },
  {
   "cell_type": "code",
   "execution_count": 69,
   "id": "57b18179-f5f1-40f6-99cc-043ae868fe27",
   "metadata": {},
   "outputs": [
    {
     "data": {
      "text/plain": [
       "(-3.0, 3.0)"
      ]
     },
     "execution_count": 69,
     "metadata": {},
     "output_type": "execute_result"
    },
    {
     "data": {
      "image/png": "[encoded data removed]",
      "text/plain": [
       "<Figure size 432x288 with 1 Axes>"
      ]
     },
     "metadata": {
      "needs_background": "light"
     },
     "output_type": "display_data"
    }
   ],
   "source": [
    "# Most correlated variable\n",
    "\n",
    "plt.scatter(X[:, r2s.argmax()], y)\n",
    "plt.xlim(-3, 3)\n",
    "plt.ylim(-3, 3)"
   ]
  },
  {
   "cell_type": "code",
   "execution_count": 71,
   "id": "312647ac-c9f1-442a-9ec5-654aec0b7d5f",
   "metadata": {},
   "outputs": [
    {
     "data": {
      "text/plain": [
       "(-3.0, 3.0)"
      ]
     },
     "execution_count": 71,
     "metadata": {},
     "output_type": "execute_result"
    },
    {
     "data": {
      "image/png": "[encoded data removed]",
      "text/plain": [
       "<Figure size 432x288 with 1 Axes>"
      ]
     },
     "metadata": {
      "needs_background": "light"
     },
     "output_type": "display_data"
    }
   ],
   "source": [
    "# Less correlated variable\n",
    "\n",
    "plt.scatter(X[:, r2s.argmin()], y)\n",
    "plt.xlim(-3, 3)\n",
    "plt.ylim(-3, 3)"
   ]
  },
  {
   "cell_type": "markdown",
   "id": "d4313caf-a252-4ec1-b3d1-35963c3a3e1d",
   "metadata": {},
   "source": [
    "<br><br>\n",
    "**This is mode noticeable when the sample to feature ratio is lesser**"
   ]
  },
  {
   "cell_type": "code",
   "execution_count": 134,
   "id": "a05cefac-29ba-48e6-875e-bad03732b06d",
   "metadata": {},
   "outputs": [],
   "source": [
    "# generate random variables\n",
    "\n",
    "Nsamples = 100\n",
    "Nfeatures = 500\n",
    "\n",
    "X, y = gen_var(Nsamples, Nfeatures)"
   ]
  },
  {
   "cell_type": "code",
   "execution_count": 135,
   "id": "6f1b4717-c86f-4aca-90d3-76dc31961df8",
   "metadata": {},
   "outputs": [
    {
     "data": {
      "text/plain": [
       "(100, 500)"
      ]
     },
     "execution_count": 135,
     "metadata": {},
     "output_type": "execute_result"
    }
   ],
   "source": [
    "X.shape"
   ]
  },
  {
   "cell_type": "markdown",
   "id": "1655a6c3-7400-4aa7-a41c-02d48c81475e",
   "metadata": {},
   "source": [
    "Test 2 options for correlations"
   ]
  },
  {
   "cell_type": "code",
   "execution_count": 136,
   "id": "39479b27-7a1e-40b5-899a-eccef5940864",
   "metadata": {},
   "outputs": [],
   "source": [
    "c = get_corrs(X, y)"
   ]
  },
  {
   "cell_type": "code",
   "execution_count": 137,
   "id": "6ef18c5e-0f84-48ab-a893-09d7ced0994a",
   "metadata": {},
   "outputs": [
    {
     "data": {
      "text/plain": [
       "(100, 2)"
      ]
     },
     "execution_count": 137,
     "metadata": {},
     "output_type": "execute_result"
    }
   ],
   "source": [
    "c.shape"
   ]
  },
  {
   "cell_type": "code",
   "execution_count": 138,
   "id": "4dcbbda2-a3a0-41cf-abb7-c22b13ed6cbb",
   "metadata": {},
   "outputs": [
    {
     "data": {
      "text/plain": [
       "[<matplotlib.lines.Line2D at 0x7f424c76bf40>]"
      ]
     },
     "execution_count": 138,
     "metadata": {},
     "output_type": "execute_result"
    },
    {
     "data": {
      "image/png": "[encoded data removed]",
      "text/plain": [
       "<Figure size 432x288 with 1 Axes>"
      ]
     },
     "metadata": {
      "needs_background": "light"
     },
     "output_type": "display_data"
    }
   ],
   "source": [
    "plt.plot(c[:, 1])"
   ]
  },
  {
   "cell_type": "code",
   "execution_count": 139,
   "id": "59a99126-58a3-429d-b55f-81110ca67d80",
   "metadata": {},
   "outputs": [
    {
     "data": {
      "image/png": "[encoded data removed]",
      "text/plain": [
       "<Figure size 432x288 with 1 Axes>"
      ]
     },
     "metadata": {
      "needs_background": "light"
     },
     "output_type": "display_data"
    }
   ],
   "source": [
    "n, b, p = plt.hist(c[:,1])"
   ]
  },
  {
   "cell_type": "code",
   "execution_count": 140,
   "id": "5799f9b4-7368-4811-b5c3-472091f92d92",
   "metadata": {},
   "outputs": [
    {
     "data": {
      "image/png": "[encoded data removed]",
      "text/plain": [
       "<Figure size 432x288 with 1 Axes>"
      ]
     },
     "metadata": {
      "needs_background": "light"
     },
     "output_type": "display_data"
    }
   ],
   "source": [
    "for i in range(5):\n",
    "    plt.scatter(X[:, i], y)"
   ]
  },
  {
   "cell_type": "code",
   "execution_count": 141,
   "id": "7b40c3a1-5fd3-4c59-ab20-68cfbf8fa1b8",
   "metadata": {},
   "outputs": [],
   "source": [
    "r2s = c[:,1]\n",
    "r2s = np.array(r2s)"
   ]
  },
  {
   "cell_type": "code",
   "execution_count": 142,
   "id": "8dd37b02-6700-4a13-8e3e-a6533a095565",
   "metadata": {},
   "outputs": [
    {
     "name": "stdout",
     "output_type": "stream",
     "text": [
      "-2.757473186864992 2.6636871483307116\n"
     ]
    }
   ],
   "source": [
    "print(r2s[r2s.argmin()], r2s[r2s.argmax()])"
   ]
  },
  {
   "cell_type": "code",
   "execution_count": 143,
   "id": "1c28545a-75d5-4447-b913-15e7aec423ea",
   "metadata": {},
   "outputs": [
    {
     "data": {
      "text/plain": [
       "(-3.0, 3.0)"
      ]
     },
     "execution_count": 143,
     "metadata": {},
     "output_type": "execute_result"
    },
    {
     "data": {
      "image/png": "[encoded data removed]",
      "text/plain": [
       "<Figure size 432x288 with 1 Axes>"
      ]
     },
     "metadata": {
      "needs_background": "light"
     },
     "output_type": "display_data"
    }
   ],
   "source": [
    "# Most correlated variable\n",
    "\n",
    "plt.scatter(X[:, r2s.argmax()], y)\n",
    "plt.xlim(-3, 3)\n",
    "plt.ylim(-3, 3)"
   ]
  },
  {
   "cell_type": "code",
   "execution_count": 144,
   "id": "c6bbc428-72fa-45d6-8eb4-2989a0b015e1",
   "metadata": {},
   "outputs": [
    {
     "data": {
      "text/plain": [
       "(-3.0, 3.0)"
      ]
     },
     "execution_count": 144,
     "metadata": {},
     "output_type": "execute_result"
    },
    {
     "data": {
      "image/png": "[encoded data removed]",
      "text/plain": [
       "<Figure size 432x288 with 1 Axes>"
      ]
     },
     "metadata": {
      "needs_background": "light"
     },
     "output_type": "display_data"
    }
   ],
   "source": [
    "# Less correlated variable\n",
    "\n",
    "plt.scatter(X[:, r2s.argmin()], y)\n",
    "plt.xlim(-3, 3)\n",
    "plt.ylim(-3, 3)"
   ]
  },
  {
   "cell_type": "code",
   "execution_count": null,
   "id": "50ff2cfd-8234-40de-9c28-802954e8ae0b",
   "metadata": {},
   "outputs": [],
   "source": []
  },
  {
   "cell_type": "markdown",
   "id": "d6842f78-6b16-4748-827e-5fb7e4a2fc2e",
   "metadata": {},
   "source": [
    "### <font color='red'>TASK: Compute the correlation coefficient and analyze if it improves through feature elimination</font>"
   ]
  },
  {
   "cell_type": "markdown",
   "id": "0b1943a1-3222-4132-809b-29f90b3d25dd",
   "metadata": {},
   "source": [
    "Let's explore whats happens for different datasets and the corresponding subtest with feature elimination"
   ]
  },
  {
   "cell_type": "code",
   "execution_count": 223,
   "id": "7ef0bdc4-ad9b-47b4-bbe8-4920ebb2aced",
   "metadata": {},
   "outputs": [],
   "source": [
    "# Generate random variables"
   ]
  },
  {
   "cell_type": "code",
   "execution_count": 264,
   "id": "c7416caa-9951-4b3b-9eb8-53e99d0d8e52",
   "metadata": {},
   "outputs": [],
   "source": [
    "Nsamples = 500\n",
    "Nfeatures = 200\n",
    "\n",
    "X, y = gen_var(Nsamples, Nfeatures)\n",
    "\n",
    "model.fit(X, y)\n",
    "c = get_corrs(X, y)"
   ]
  },
  {
   "cell_type": "code",
   "execution_count": 265,
   "id": "7e85fd40-574c-4d99-8755-d90714f89925",
   "metadata": {},
   "outputs": [
    {
     "name": "stdout",
     "output_type": "stream",
     "text": [
      "-0.2848215933691576\n",
      "0.13082127049008396\n"
     ]
    }
   ],
   "source": [
    "R2_full = coef_det(model.predict(X), y)\n",
    "print(R2_full)\n",
    "\n",
    "ids = c[:,1].argsort()[:25]\n",
    "R2_subset = get_corr(X[:, ids], y)\n",
    "\n",
    "print(R2_subset)"
   ]
  },
  {
   "cell_type": "code",
   "execution_count": 266,
   "id": "08b763f1-0864-4a3b-8bf6-5c804e2a4381",
   "metadata": {},
   "outputs": [],
   "source": [
    "Nexperiments = 100\n",
    "R2s_full = []\n",
    "R2s_subsets = []\n",
    "for i in range(Nexperiments):\n",
    "\n",
    "    X, y = gen_var(Nsamples, Nfeatures)\n",
    "    model.fit(X, y)\n",
    "    c = get_corrs(X, y)\n",
    "    R2_full = coef_det(model.predict(X), y)\n",
    "    ids = c[:,1].argsort()[:25]\n",
    "    R2_subset = get_corr(X[:, ids], y)\n",
    "\n",
    "    R2s_full.append(R2_full)\n",
    "    R2s_subsets.append(R2_subset)"
   ]
  },
  {
   "cell_type": "code",
   "execution_count": 267,
   "id": "7e1662f4-0d72-48e3-b795-0a0975c124d0",
   "metadata": {},
   "outputs": [
    {
     "name": "stdout",
     "output_type": "stream",
     "text": [
      "-1.0727353581515402 -0.06381326039118806\n",
      "0.07986141802880287 0.18913198733296377\n"
     ]
    }
   ],
   "source": [
    "print(np.min(R2s_full), np.max(R2s_full))\n",
    "print(np.min(R2s_subsets), np.max(R2s_subsets))"
   ]
  },
  {
   "cell_type": "code",
   "execution_count": 268,
   "id": "05a54485-70f9-4c5a-baed-218363f79d62",
   "metadata": {},
   "outputs": [
    {
     "data": {
      "text/plain": [
       "(array([ 0.,  0.,  0.,  0.,  0.,  0.,  0.,  0.,  0.,  0., 88., 12.,  0.,\n",
       "         0.,  0.,  0.,  0.,  0.,  0.]),\n",
       " array([-1.        , -0.89473684, -0.78947368, -0.68421053, -0.57894737,\n",
       "        -0.47368421, -0.36842105, -0.26315789, -0.15789474, -0.05263158,\n",
       "         0.05263158,  0.15789474,  0.26315789,  0.36842105,  0.47368421,\n",
       "         0.57894737,  0.68421053,  0.78947368,  0.89473684,  1.        ]),\n",
       " [<matplotlib.patches.Polygon at 0x7f424b29b760>])"
      ]
     },
     "execution_count": 268,
     "metadata": {},
     "output_type": "execute_result"
    },
    {
     "data": {
      "image/png": "[encoded data removed]",
      "text/plain": [
       "<Figure size 432x288 with 1 Axes>"
      ]
     },
     "metadata": {
      "needs_background": "light"
     },
     "output_type": "display_data"
    }
   ],
   "source": [
    "bins = np.linspace(-1, 1, 20)\n",
    "props = {'histtype': 'step', 'linewidth': 2}\n",
    "plt.hist(R2s_full, bins=bins, **props)\n",
    "plt.hist(R2s_subsets, bins=bins, **props)"
   ]
  },
  {
   "cell_type": "markdown",
   "id": "0c50f6b4-4699-4ac4-8efe-b05b314608a1",
   "metadata": {},
   "source": [
    "Let's try a more extreme setup:"
   ]
  },
  {
   "cell_type": "code",
   "execution_count": 270,
   "id": "0cadc859-26ab-4d66-9c24-3a1a1bb55d53",
   "metadata": {},
   "outputs": [],
   "source": [
    "Nsamples = 500\n",
    "Nfeatures = 400\n",
    "\n",
    "X, y = gen_var(Nsamples, Nfeatures)\n",
    "model.fit(X, y)\n",
    "c = get_corrs(X, y)"
   ]
  },
  {
   "cell_type": "code",
   "execution_count": 271,
   "id": "00afcb3f-a6b8-408c-a000-20f022382542",
   "metadata": {},
   "outputs": [
    {
     "name": "stdout",
     "output_type": "stream",
     "text": [
      "0.7768254199858426\n",
      "0.19233299430488415\n"
     ]
    }
   ],
   "source": [
    "R2_full = coef_det(model.predict(X), y)\n",
    "print(R2_full)\n",
    "\n",
    "ids = c[:,1].argsort()[:25]\n",
    "R2_subset = get_corr(X[:, ids], y)\n",
    "\n",
    "print(R2_subset)"
   ]
  },
  {
   "cell_type": "code",
   "execution_count": 273,
   "id": "8b919f35-eda7-4fb0-9714-b8dde0027838",
   "metadata": {},
   "outputs": [],
   "source": [
    "Nexperiments = 1000\n",
    "R2s_full = []\n",
    "R2s_subsets = []\n",
    "for i in range(Nexperiments):\n",
    "\n",
    "    X, y = gen_var(Nsamples, Nfeatures)\n",
    "    model.fit(X, y)\n",
    "    c = get_corrs(X, y)\n",
    "    R2_full = coef_det(model.predict(X), y)\n",
    "    ids = c[:,1].argsort()[:25]\n",
    "    R2_subset = get_corr(X[:, ids], y)\n",
    "\n",
    "    R2s_full.append(R2_full)\n",
    "    R2s_subsets.append(R2_subset)"
   ]
  },
  {
   "cell_type": "code",
   "execution_count": 240,
   "id": "bd3fb198-f8db-41fa-8060-d25582611573",
   "metadata": {},
   "outputs": [
    {
     "data": {
      "text/plain": [
       "(array([ 0.,  0.,  0.,  0.,  0.,  0.,  0.,  0.,  0.,  0.,  8., 61., 26.,\n",
       "         5.,  0.,  0.,  0.,  0.,  0.]),\n",
       " array([-1.        , -0.89473684, -0.78947368, -0.68421053, -0.57894737,\n",
       "        -0.47368421, -0.36842105, -0.26315789, -0.15789474, -0.05263158,\n",
       "         0.05263158,  0.15789474,  0.26315789,  0.36842105,  0.47368421,\n",
       "         0.57894737,  0.68421053,  0.78947368,  0.89473684,  1.        ]),\n",
       " [<matplotlib.patches.Polygon at 0x7f424c537f10>])"
      ]
     },
     "execution_count": 240,
     "metadata": {},
     "output_type": "execute_result"
    },
    {
     "data": {
      "image/png": "[encoded data removed]",
      "text/plain": [
       "<Figure size 432x288 with 1 Axes>"
      ]
     },
     "metadata": {
      "needs_background": "light"
     },
     "output_type": "display_data"
    }
   ],
   "source": [
    "bins = np.linspace(-1, 1, 20)\n",
    "props = {'histtype': 'step', 'linewidth': 2}\n",
    "plt.hist(R2s_full, bins=bins, **props)\n",
    "plt.hist(R2s_subsets, bins=bins, **props)"
   ]
  },
  {
   "cell_type": "code",
   "execution_count": null,
   "id": "82bc69d7-845c-4eba-a6ae-eb1208a8961e",
   "metadata": {},
   "outputs": [],
   "source": []
  },
  {
   "cell_type": "code",
   "execution_count": null,
   "id": "235182d8-d37c-4325-a3fc-cc9cdca6d28f",
   "metadata": {},
   "outputs": [],
   "source": []
  },
  {
   "cell_type": "code",
   "execution_count": null,
   "id": "395f39f9-cdf5-4c20-ae5b-48617d8ee41b",
   "metadata": {},
   "outputs": [],
   "source": []
  },
  {
   "cell_type": "markdown",
   "id": "5ff1b455-8ef0-46a8-9495-839babb41e7c",
   "metadata": {},
   "source": [
    "https://stackoverflow.com/questions/42033720/python-sklearn-multiple-linear-regression-display-r-squared"
   ]
  },
  {
   "cell_type": "markdown",
   "id": "f971a54e-0d4c-4e64-bf8f-5575075d8e93",
   "metadata": {},
   "source": [
    "Resources:"
   ]
  },
  {
   "cell_type": "markdown",
   "id": "d98748aa-5c96-446f-9f26-d41ec7ae3c9b",
   "metadata": {},
   "source": [
    "https://stats.stackexchange.com/questions/351200/multiple-correlation-coefficient-with-three-or-more-independent-variables"
   ]
  },
  {
   "cell_type": "markdown",
   "id": "969246af-899c-44fe-9452-f22dadf9c3ef",
   "metadata": {},
   "source": [
    "- The Advanced Theory of Statistics (vol 1) by Kendall\n",
    "- An Introduction to the Theory of Statistics by Yule/Kendall.\n",
    "- Mathematics of Statistics (part two) by Kenney.\n",
    "- Linear Statistical Inference and Its Applications by Rao (2nd ed., page 266-268)."
   ]
  },
  {
   "cell_type": "markdown",
   "id": "ce63c275-7c07-4e98-9ff0-59854aba4ff9",
   "metadata": {},
   "source": [
    "<font style='color: #76448A; font-size:120%;'>\n",
    "The key here is that, in the words of Freedman, we are considering 'a regression model in a context where substantive theory is weak'. That is, there are no strong reasons to propose a given model. For any model, then, which is not motivated by first principles or by experience in the business, there is not a solid benchmark to test its performance. The abundance of data can supply the lack of theory, unless there is not enough data either. When the samples to features ratio is low, there is plenty of room to play with the features and the results can easily be bended by picking the right subset of features.  This is a bad thing, but eliminating features without knowing these dangers, is certainly bad also.\n",
    "    \n",
    "</font>"
   ]
  },
  {
   "cell_type": "code",
   "execution_count": null,
   "id": "c2e29edd-dce4-4371-8fd0-d1920b1eb325",
   "metadata": {},
   "outputs": [],
   "source": []
  }
 ],
 "metadata": {
  "kernelspec": {
   "display_name": "Python 3 (ipykernel)",
   "language": "python",
   "name": "python3"
  },
  "language_info": {
   "codemirror_mode": {
    "name": "ipython",
    "version": 3
   },
   "file_extension": ".py",
   "mimetype": "text/x-python",
   "name": "python",
   "nbconvert_exporter": "python",
   "pygments_lexer": "ipython3",
   "version": "3.8.10"
  }
 },
 "nbformat": 4,
 "nbformat_minor": 5
}
