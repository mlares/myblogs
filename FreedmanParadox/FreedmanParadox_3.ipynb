{
 "cells": [
  {
   "cell_type": "code",
   "execution_count": 277,
   "id": "4904f0e8-6ac3-44ca-a914-e11703c944e3",
   "metadata": {},
   "outputs": [],
   "source": [
    "import numpy as np\n",
    "from sklearn.linear_model import LinearRegression\n",
    "from scipy.stats import pearsonr"
   ]
  },
  {
   "cell_type": "code",
   "execution_count": 278,
   "id": "471088c6-f2fe-4c41-90df-cb8d86543d4c",
   "metadata": {},
   "outputs": [
    {
     "data": {
      "text/plain": [
       "<matplotlib.pyplot._IonContext at 0x7f2d9092c790>"
      ]
     },
     "execution_count": 278,
     "metadata": {},
     "output_type": "execute_result"
    }
   ],
   "source": [
    "from matplotlib import pyplot as plt\n",
    "plt.ion()"
   ]
  },
  {
   "cell_type": "code",
   "execution_count": 279,
   "id": "71d62008-8caa-45cc-b303-b33b92d13016",
   "metadata": {},
   "outputs": [
    {
     "name": "stdout",
     "output_type": "stream",
     "text": [
      "45.82904994781718\n"
     ]
    }
   ],
   "source": [
    "Nsamples = 100\n",
    "Nfeatures = 50\n",
    "\n",
    "X = np.random.normal(size=(Nsamples, Nfeatures))\n",
    "y = np.random.normal(size=Nsamples)\n",
    "\n",
    "model = LinearRegression()\n",
    "model.fit(X, y)\n",
    "yp = model.predict(X)\n",
    "R2 = pow(yp - y, 2).sum()\n",
    "print(R2)"
   ]
  },
  {
   "cell_type": "code",
   "execution_count": 280,
   "id": "68cc3024-1f53-4230-b354-cc4368e609e7",
   "metadata": {},
   "outputs": [
    {
     "data": {
      "text/plain": [
       "79.63740372385824"
      ]
     },
     "execution_count": 280,
     "metadata": {},
     "output_type": "execute_result"
    }
   ],
   "source": [
    "c = []\n",
    "for x in X.transpose():\n",
    "    c.append(pearsonr(x, y))\n",
    "c = np.array(c)\n",
    "\n",
    "Xs = X[:, c[:,1]>0.25]\n",
    "model.fit(Xs, y)\n",
    "yp = model.predict(Xs)\n",
    "R2 = pow(yp - y, 2).sum()\n",
    "R2"
   ]
  },
  {
   "cell_type": "code",
   "execution_count": 298,
   "id": "a7c772b4-d03c-4f9c-bbea-ca284fe48af6",
   "metadata": {},
   "outputs": [],
   "source": [
    "R2f = []\n",
    "R2s = []\n",
    "for i in range(100):\n",
    "    X = np.random.normal(size=(Nsamples, Nfeatures))\n",
    "    y = np.random.normal(size=Nsamples)\n",
    "\n",
    "    model.fit(X, y)\n",
    "    yp = model.predict(X)    \n",
    "    R2f.append(pow(yp - y, 2).sum())\n",
    "    \n",
    "    c = []\n",
    "    #for x in X.transpose():\n",
    "    for i in range(Nfeatures):\n",
    "        x = X[:,i]\n",
    "        c.append(pearsonr(x, y))\n",
    "    c = np.array(c)\n",
    "\n",
    "    Xs = X[:, c[:,1]<0.25]\n",
    "    model.fit(Xs, y)\n",
    "    yp = model.predict(Xs)\n",
    "    R2s.append(pow(yp - y, 2).sum())"
   ]
  },
  {
   "cell_type": "code",
   "execution_count": 299,
   "id": "bb296531-2588-4af3-8bed-a86b2ecbf816",
   "metadata": {},
   "outputs": [
    {
     "data": {
      "text/plain": [
       "<matplotlib.legend.Legend at 0x7f2d9057cfa0>"
      ]
     },
     "execution_count": 299,
     "metadata": {},
     "output_type": "execute_result"
    },
    {
     "data": {
      "image/png": "[encoded data removed]",
      "text/plain": [
       "<Figure size 432x288 with 1 Axes>"
      ]
     },
     "metadata": {
      "needs_background": "light"
     },
     "output_type": "display_data"
    }
   ],
   "source": [
    "plt.hist(R2f, histtype='step', label='full')\n",
    "plt.hist(R2s, histtype='step', label='subset')\n",
    "plt.legend()"
   ]
  },
  {
   "cell_type": "code",
   "execution_count": null,
   "id": "9587cfdb-d440-4eff-8410-250977f85c2d",
   "metadata": {},
   "outputs": [],
   "source": []
  },
  {
   "cell_type": "code",
   "execution_count": null,
   "id": "40644382-0a99-4036-9c64-9b934cc33327",
   "metadata": {},
   "outputs": [],
   "source": []
  }
 ],
 "metadata": {
  "kernelspec": {
   "display_name": "Python 3 (ipykernel)",
   "language": "python",
   "name": "python3"
  },
  "language_info": {
   "codemirror_mode": {
    "name": "ipython",
    "version": 3
   },
   "file_extension": ".py",
   "mimetype": "text/x-python",
   "name": "python",
   "nbconvert_exporter": "python",
   "pygments_lexer": "ipython3",
   "version": "3.8.10"
  }
 },
 "nbformat": 4,
 "nbformat_minor": 5
}
